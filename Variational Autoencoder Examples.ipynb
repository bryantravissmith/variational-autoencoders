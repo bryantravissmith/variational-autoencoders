{
 "cells": [
  {
   "cell_type": "markdown",
   "metadata": {},
   "source": [
    "# Variational Autoencoder Example\n",
    "\n",
    "This is part of the Udacity Deeplearning Nanodegree"
   ]
  },
  {
   "cell_type": "code",
   "execution_count": 1,
   "metadata": {},
   "outputs": [
    {
     "name": "stdout",
     "output_type": "stream",
     "text": [
      "Extracting MNIST_data/train-images-idx3-ubyte.gz\n",
      "Extracting MNIST_data/train-labels-idx1-ubyte.gz\n",
      "Extracting MNIST_data/t10k-images-idx3-ubyte.gz\n",
      "Extracting MNIST_data/t10k-labels-idx1-ubyte.gz\n"
     ]
    }
   ],
   "source": [
    "%matplotlib inline\n",
    "\n",
    "import numpy as np\n",
    "import tensorflow as tf\n",
    "import matplotlib.pyplot as plt\n",
    "\n",
    "from tensorflow.examples.tutorials.mnist import input_data\n",
    "mnist = input_data.read_data_sets('MNIST_data', validation_size=0)"
   ]
  },
  {
   "cell_type": "code",
   "execution_count": 2,
   "metadata": {},
   "outputs": [
    {
     "data": {
      "image/png": "[encoded data removed]",
      "text/plain": [
       "<matplotlib.figure.Figure at 0x126bd94a8>"
      ]
     },
     "metadata": {},
     "output_type": "display_data"
    }
   ],
   "source": [
    "\n",
    "plt.imshow(\n",
    "    mnist.train.images[2].reshape((28,28)),\n",
    "    cmap='Greys'\n",
    ")\n",
    "plt.show()"
   ]
  },
  {
   "cell_type": "code",
   "execution_count": 22,
   "metadata": {},
   "outputs": [],
   "source": [
    "dim1 = 64\n",
    "dim2 = 32\n",
    "image_size = mnist.train.images.shape[1]\n",
    "\n",
    "inputs = tf.placeholder(tf.float32, shape=[None, image_size])\n",
    "targets = tf.placeholder(tf.float32, shape=[None, image_size])\n",
    "\n",
    "encoder_layer_1 = tf.layers.dense(inputs, dim1, activation=tf.nn.relu)\n",
    "encoder_layer_2 = tf.layers.dense(encoder_layer_1, dim2, activation=tf.nn.relu)\n",
    "decoder_layer_1 = tf.layers.dense(encoder_layer_2, dim1, activation=tf.nn.relu)\n",
    "logits = tf.layers.dense(decoder_layer_1, image_size, activation=None)\n",
    "\n",
    "decoded = tf.nn.sigmoid(logits)\n",
    "\n",
    "loss = tf.nn.sigmoid_cross_entropy_with_logits(\n",
    "    logits=logits,\n",
    "    labels=targets\n",
    ")\n",
    "cost = tf.reduce_mean(loss)\n",
    "\n",
    "optimizer = tf.train.AdamOptimizer(0.001).minimize(cost)"
   ]
  },
  {
   "cell_type": "code",
   "execution_count": 23,
   "metadata": {
    "scrolled": false
   },
   "outputs": [
    {
     "name": "stdout",
     "output_type": "stream",
     "text": [
      "Epoch: 1/50... Training loss: 0.1678\n",
      "Epoch: 2/50... Training loss: 0.1407\n",
      "Epoch: 3/50... Training loss: 0.1248\n",
      "Epoch: 4/50... Training loss: 0.1111\n",
      "Epoch: 5/50... Training loss: 0.1096\n",
      "Epoch: 6/50... Training loss: 0.1180\n",
      "Epoch: 7/50... Training loss: 0.1045\n",
      "Epoch: 8/50... Training loss: 0.1016\n",
      "Epoch: 9/50... Training loss: 0.1047\n",
      "Epoch: 10/50... Training loss: 0.0981\n",
      "Epoch: 11/50... Training loss: 0.0977\n",
      "Epoch: 12/50... Training loss: 0.1028\n",
      "Epoch: 13/50... Training loss: 0.1006\n",
      "Epoch: 14/50... Training loss: 0.0960\n",
      "Epoch: 15/50... Training loss: 0.0967\n",
      "Epoch: 16/50... Training loss: 0.0934\n",
      "Epoch: 17/50... Training loss: 0.1015\n",
      "Epoch: 18/50... Training loss: 0.0941\n",
      "Epoch: 19/50... Training loss: 0.0954\n",
      "Epoch: 20/50... Training loss: 0.0955\n",
      "Epoch: 21/50... Training loss: 0.0979\n",
      "Epoch: 22/50... Training loss: 0.0953\n",
      "Epoch: 23/50... Training loss: 0.0974\n",
      "Epoch: 24/50... Training loss: 0.0938\n",
      "Epoch: 25/50... Training loss: 0.0956\n",
      "Epoch: 26/50... Training loss: 0.0921\n",
      "Epoch: 27/50... Training loss: 0.0944\n",
      "Epoch: 28/50... Training loss: 0.0945\n",
      "Epoch: 29/50... Training loss: 0.0918\n",
      "Epoch: 30/50... Training loss: 0.0936\n",
      "Epoch: 31/50... Training loss: 0.0936\n",
      "Epoch: 32/50... Training loss: 0.0970\n",
      "Epoch: 33/50... Training loss: 0.0920\n",
      "Epoch: 34/50... Training loss: 0.0947\n",
      "Epoch: 35/50... Training loss: 0.0902\n",
      "Epoch: 36/50... Training loss: 0.0948\n",
      "Epoch: 37/50... Training loss: 0.0926\n",
      "Epoch: 38/50... Training loss: 0.0921\n",
      "Epoch: 39/50... Training loss: 0.0937\n",
      "Epoch: 40/50... Training loss: 0.0929\n",
      "Epoch: 41/50... Training loss: 0.0930\n",
      "Epoch: 42/50... Training loss: 0.0915\n",
      "Epoch: 43/50... Training loss: 0.0933\n",
      "Epoch: 44/50... Training loss: 0.0934\n",
      "Epoch: 45/50... Training loss: 0.0927\n",
      "Epoch: 46/50... Training loss: 0.0907\n",
      "Epoch: 47/50... Training loss: 0.0915\n",
      "Epoch: 48/50... Training loss: 0.0951\n",
      "Epoch: 49/50... Training loss: 0.0920\n",
      "Epoch: 50/50... Training loss: 0.0920\n"
     ]
    }
   ],
   "source": [
    "sess = tf.Session()\n",
    "epochs = 50\n",
    "batch_size = 200\n",
    "sess.run(tf.global_variables_initializer())\n",
    "for e in range(epochs):\n",
    "    for ii in range(mnist.train.num_examples//batch_size):\n",
    "        batch = mnist.train.next_batch(batch_size)\n",
    "        feed = {inputs: batch[0], targets: batch[0]}\n",
    "        batch_cost, _ = sess.run([cost, optimizer], feed_dict=feed)\n",
    "\n",
    "    print(\"Epoch: {}/{}...\".format(e+1, epochs),\n",
    "          \"Training loss: {:.4f}\".format(batch_cost))"
   ]
  },
  {
   "cell_type": "code",
   "execution_count": 24,
   "metadata": {},
   "outputs": [
    {
     "data": {
      "image/png": "[encoded data removed]",
      "text/plain": [
       "<matplotlib.figure.Figure at 0x12873c0f0>"
      ]
     },
     "metadata": {},
     "output_type": "display_data"
    }
   ],
   "source": [
    "fig, axes = plt.subplots(nrows=2, ncols=10, sharex=True, sharey=True, figsize=(20,4))\n",
    "in_imgs = mnist.test.images[:10]\n",
    "reconstructed, compressed = sess.run([decoded, encoder_layer_1], feed_dict={inputs: in_imgs})\n",
    "\n",
    "for images, row in zip([in_imgs, reconstructed], axes):\n",
    "    for img, ax in zip(images, row):\n",
    "        ax.imshow(img.reshape((28, 28)), cmap='Greys_r')\n",
    "        ax.get_xaxis().set_visible(False)\n",
    "        ax.get_yaxis().set_visible(False)\n",
    "\n",
    "fig.tight_layout(pad=0.1)"
   ]
  },
  {
   "cell_type": "markdown",
   "metadata": {},
   "source": [
    "## Variational Autoencoder"
   ]
  },
  {
   "cell_type": "code",
   "execution_count": 31,
   "metadata": {},
   "outputs": [],
   "source": [
    "dim1 = 64\n",
    "dim2 = 32\n",
    "image_size = mnist.train.images.shape[1]\n",
    "\n",
    "inputs = tf.placeholder(tf.float32, shape=[None, image_size])\n",
    "targets = tf.placeholder(tf.float32, shape=[None, image_size])\n",
    "\n",
    "encoder_layer_1 = tf.layers.dense(inputs, dim1, activation=tf.nn.relu)\n",
    "encoder_layer_2_mu = tf.layers.dense(encoder_layer_1, dim2, activation=None)\n",
    "encoder_layer_2_gamma = tf.layers.dense(encoder_layer_1, dim2, activation=None)\n",
    "encoder_layer_2_sigma = tf.exp(0.5 * encoder_layer_2_gamma)\n",
    "\n",
    "noise = tf.random_normal(tf.shape(encoder_layer_2_sigma), dtype=tf.float32)\n",
    "\n",
    "encoder_layer_2 = encoder_layer_2_mu + encoder_layer_2_sigma*noise\n",
    "\n",
    "decoder_layer_1 = tf.layers.dense(encoder_layer_2, dim1, activation=tf.nn.relu)\n",
    "\n",
    "logits = tf.layers.dense(decoder_layer_1, image_size, activation=None)\n",
    "\n",
    "decoded = tf.nn.sigmoid(logits)\n",
    "\n",
    "\n",
    "reconstruction_loss = tf.reduce_sum(\n",
    "    tf.nn.sigmoid_cross_entropy_with_logits(\n",
    "    logits=logits,\n",
    "    labels=targets\n",
    "    )\n",
    ")\n",
    "\n",
    "latent_loss = tf.reduce_sum(\n",
    "    tf.exp(encoder_layer_2_gamma) + tf.square(encoder_layer_2_mu) - 1 - encoder_layer_2_gamma\n",
    ")\n",
    "\n",
    "loss = reconstruction_loss + latent_loss\n",
    "\n",
    "#cost = tf.reduce_mean(loss)\n",
    "cost = loss\n",
    "optimizer = tf.train.AdamOptimizer(0.001).minimize(cost)"
   ]
  },
  {
   "cell_type": "code",
   "execution_count": 32,
   "metadata": {
    "scrolled": false
   },
   "outputs": [
    {
     "name": "stdout",
     "output_type": "stream",
     "text": [
      "Epoch: 1/50... Training loss: 37577.3359\n",
      "Epoch: 2/50... Training loss: 33164.8984\n",
      "Epoch: 3/50... Training loss: 30962.4844\n",
      "Epoch: 4/50... Training loss: 30356.5352\n",
      "Epoch: 5/50... Training loss: 29598.8867\n",
      "Epoch: 6/50... Training loss: 28623.4766\n",
      "Epoch: 7/50... Training loss: 27733.5312\n",
      "Epoch: 8/50... Training loss: 28413.6270\n",
      "Epoch: 9/50... Training loss: 28343.7012\n",
      "Epoch: 10/50... Training loss: 27347.7480\n",
      "Epoch: 11/50... Training loss: 27422.4414\n",
      "Epoch: 12/50... Training loss: 25957.9727\n",
      "Epoch: 13/50... Training loss: 27196.7891\n",
      "Epoch: 14/50... Training loss: 26872.0371\n",
      "Epoch: 15/50... Training loss: 25714.9316\n",
      "Epoch: 16/50... Training loss: 26762.9062\n",
      "Epoch: 17/50... Training loss: 25864.4688\n",
      "Epoch: 18/50... Training loss: 26920.1836\n",
      "Epoch: 19/50... Training loss: 26221.9004\n",
      "Epoch: 20/50... Training loss: 27092.6484\n",
      "Epoch: 21/50... Training loss: 26871.3477\n",
      "Epoch: 22/50... Training loss: 26550.5078\n",
      "Epoch: 23/50... Training loss: 26172.9004\n",
      "Epoch: 24/50... Training loss: 26839.3594\n",
      "Epoch: 25/50... Training loss: 26726.3633\n",
      "Epoch: 26/50... Training loss: 27524.1562\n",
      "Epoch: 27/50... Training loss: 27073.9980\n",
      "Epoch: 28/50... Training loss: 26338.9043\n",
      "Epoch: 29/50... Training loss: 26042.1289\n",
      "Epoch: 30/50... Training loss: 26957.0508\n",
      "Epoch: 31/50... Training loss: 26823.7793\n",
      "Epoch: 32/50... Training loss: 25959.4473\n",
      "Epoch: 33/50... Training loss: 25560.1230\n",
      "Epoch: 34/50... Training loss: 26092.0742\n",
      "Epoch: 35/50... Training loss: 25653.3848\n",
      "Epoch: 36/50... Training loss: 26945.6562\n",
      "Epoch: 37/50... Training loss: 26540.1582\n",
      "Epoch: 38/50... Training loss: 26646.6816\n",
      "Epoch: 39/50... Training loss: 26801.7695\n",
      "Epoch: 40/50... Training loss: 26379.0820\n",
      "Epoch: 41/50... Training loss: 25814.2090\n",
      "Epoch: 42/50... Training loss: 26388.0078\n",
      "Epoch: 43/50... Training loss: 26570.2168\n",
      "Epoch: 44/50... Training loss: 25345.0195\n",
      "Epoch: 45/50... Training loss: 25636.4453\n",
      "Epoch: 46/50... Training loss: 27244.9551\n",
      "Epoch: 47/50... Training loss: 26427.4941\n",
      "Epoch: 48/50... Training loss: 26386.2363\n",
      "Epoch: 49/50... Training loss: 26252.8223\n",
      "Epoch: 50/50... Training loss: 26088.0703\n"
     ]
    }
   ],
   "source": [
    "sess = tf.Session()\n",
    "epochs = 50\n",
    "batch_size = 200\n",
    "sess.run(tf.global_variables_initializer())\n",
    "for e in range(epochs):\n",
    "    for ii in range(mnist.train.num_examples//batch_size):\n",
    "        batch = mnist.train.next_batch(batch_size)\n",
    "        feed = {inputs: batch[0], targets: batch[0]}\n",
    "        batch_cost, _ = sess.run([cost, optimizer], feed_dict=feed)\n",
    "\n",
    "    print(\"Epoch: {}/{}...\".format(e+1, epochs),\n",
    "          \"Training loss: {:.4f}\".format(batch_cost))"
   ]
  },
  {
   "cell_type": "code",
   "execution_count": 33,
   "metadata": {},
   "outputs": [
    {
     "data": {
      "image/png": "[encoded data removed]",
      "text/plain": [
       "<matplotlib.figure.Figure at 0x12933d550>"
      ]
     },
     "metadata": {},
     "output_type": "display_data"
    }
   ],
   "source": [
    "fig, axes = plt.subplots(nrows=2, ncols=10, sharex=True, sharey=True, figsize=(20,4))\n",
    "in_imgs = mnist.test.images[:10]\n",
    "reconstructed, compressed = sess.run([decoded, encoder_layer_1], feed_dict={inputs: in_imgs})\n",
    "\n",
    "for images, row in zip([in_imgs, reconstructed], axes):\n",
    "    for img, ax in zip(images, row):\n",
    "        ax.imshow(img.reshape((28, 28)), cmap='Greys_r')\n",
    "        ax.get_xaxis().set_visible(False)\n",
    "        ax.get_yaxis().set_visible(False)\n",
    "\n",
    "fig.tight_layout(pad=0.1)"
   ]
  },
  {
   "cell_type": "markdown",
   "metadata": {},
   "source": [
    "# Convolution Autoencoder"
   ]
  },
  {
   "cell_type": "code",
   "execution_count": 38,
   "metadata": {},
   "outputs": [],
   "source": [
    "learning_rate = 0.001\n",
    "# Input and target placeholders\n",
    "inputs_ = tf.placeholder(tf.float32, shape=[None, 28, 28, 1])\n",
    "targets_ = tf.placeholder(tf.float32, shape=[None, 28, 28, 1])\n",
    "\n",
    "### Encoder\n",
    "\n",
    "conv1 = tf.layers.conv2d(inputs_, 16, (3,3), padding='SAME', activation=tf.nn.relu)\n",
    "# Now 28x28x16\n",
    "\n",
    "maxpool1 = tf.layers.max_pooling2d(conv1, (2,2), (2,2), padding='SAME')\n",
    "# Now 14x14x16\n",
    "\n",
    "conv2 =  tf.layers.conv2d(maxpool1, 8, (3,3), padding='SAME', activation=tf.nn.relu)\n",
    "# Now 14x14x8\n",
    "\n",
    "maxpool2 = tf.layers.max_pooling2d(conv2, (2,2), (2,2), padding='SAME')\n",
    "# Now 7x7x8\n",
    "\n",
    "conv3 = tf.layers.conv2d(maxpool2, 8, (3,3), padding='SAME', activation=tf.nn.relu)\n",
    "# Now 7x7x8\n",
    "\n",
    "encoded = tf.layers.max_pooling2d(conv3, (2,2), (2,2), padding='SAME')\n",
    "# Now 4x4x8\n",
    "\n",
    "### Decoder\n",
    "upsample1 =  tf.image.resize_nearest_neighbor(encoded, (7,7))\n",
    "\n",
    "# Now 7x7x8\n",
    "conv4 =  tf.layers.conv2d(upsample1, 8, (3,3), padding='SAME', activation=tf.nn.relu)\n",
    "# Now 7x7x8\n",
    "\n",
    "upsample2 = tf.image.resize_nearest_neighbor(conv4, (14,14))\n",
    "# Now 14x14x8\n",
    "\n",
    "conv5 = tf.layers.conv2d(upsample2, 8, (3,3), padding='SAME', activation=tf.nn.relu)\n",
    "# Now 14x14x8\n",
    "\n",
    "upsample3 = tf.image.resize_nearest_neighbor(conv4, (28,28))\n",
    "# Now 28x28x8\n",
    "\n",
    "conv6 = tf.layers.conv2d(upsample3, 16, (3,3), padding='SAME', activation=tf.nn.relu)\n",
    "# Now 28x28x16\n",
    "\n",
    "logits = tf.layers.conv2d(conv6, 1, (3,3), padding='SAME', activation=None)\n",
    "#Now 28x28x1\n",
    "\n",
    "# Pass logits through sigmoid to get reconstructed image\n",
    "decoded = tf.nn.sigmoid(logits)\n",
    "\n",
    "# Pass logits through sigmoid and calculate the cross-entropy loss\n",
    "loss =  tf.nn.sigmoid_cross_entropy_with_logits(labels=targets_, logits=logits)\n",
    "\n",
    "# Get cost and define the optimizer\n",
    "cost = tf.reduce_mean(loss)\n",
    "opt = tf.train.AdamOptimizer(learning_rate).minimize(cost)"
   ]
  },
  {
   "cell_type": "code",
   "execution_count": 39,
   "metadata": {},
   "outputs": [
    {
     "name": "stdout",
     "output_type": "stream",
     "text": [
      "Epoch: 1/20... Training loss: 0.1676\n",
      "Epoch: 2/20... Training loss: 0.1419\n",
      "Epoch: 3/20... Training loss: 0.1363\n",
      "Epoch: 4/20... Training loss: 0.1277\n",
      "Epoch: 5/20... Training loss: 0.1218\n",
      "Epoch: 6/20... Training loss: 0.1222\n",
      "Epoch: 7/20... Training loss: 0.1147\n",
      "Epoch: 8/20... Training loss: 0.1143\n",
      "Epoch: 9/20... Training loss: 0.1148\n",
      "Epoch: 10/20... Training loss: 0.1116\n",
      "Epoch: 11/20... Training loss: 0.1143\n",
      "Epoch: 12/20... Training loss: 0.1091\n",
      "Epoch: 13/20... Training loss: 0.1100\n",
      "Epoch: 14/20... Training loss: 0.1131\n",
      "Epoch: 15/20... Training loss: 0.1071\n",
      "Epoch: 16/20... Training loss: 0.1083\n",
      "Epoch: 17/20... Training loss: 0.1051\n",
      "Epoch: 18/20... Training loss: 0.1099\n",
      "Epoch: 19/20... Training loss: 0.1018\n",
      "Epoch: 20/20... Training loss: 0.1091\n"
     ]
    }
   ],
   "source": [
    "sess = tf.Session()\n",
    "epochs = 20\n",
    "batch_size = 200\n",
    "sess.run(tf.global_variables_initializer())\n",
    "for e in range(epochs):\n",
    "    for ii in range(mnist.train.num_examples//batch_size):\n",
    "        batch = mnist.train.next_batch(batch_size)\n",
    "        imgs = batch[0].reshape((-1, 28, 28, 1))\n",
    "        batch_cost, _ = sess.run([cost, opt], feed_dict={inputs_: imgs,\n",
    "                                                         targets_: imgs})\n",
    "\n",
    "    print(\"Epoch: {}/{}...\".format(e+1, epochs),\n",
    "              \"Training loss: {:.4f}\".format(batch_cost))"
   ]
  },
  {
   "cell_type": "code",
   "execution_count": 40,
   "metadata": {},
   "outputs": [
    {
     "data": {
      "image/png": "[encoded data removed]",
      "text/plain": [
       "<matplotlib.figure.Figure at 0x12e0a1c18>"
      ]
     },
     "metadata": {},
     "output_type": "display_data"
    }
   ],
   "source": [
    "fig, axes = plt.subplots(nrows=2, ncols=10, sharex=True, sharey=True, figsize=(20,4))\n",
    "in_imgs = mnist.test.images[:10]\n",
    "reconstructed = sess.run(decoded, feed_dict={inputs_: in_imgs.reshape((10, 28, 28, 1))})\n",
    "\n",
    "for images, row in zip([in_imgs, reconstructed], axes):\n",
    "    for img, ax in zip(images, row):\n",
    "        ax.imshow(img.reshape((28, 28)), cmap='Greys_r')\n",
    "        ax.get_xaxis().set_visible(False)\n",
    "        ax.get_yaxis().set_visible(False)\n",
    "\n",
    "\n",
    "fig.tight_layout(pad=0.1)"
   ]
  },
  {
   "cell_type": "code",
   "execution_count": 41,
   "metadata": {
    "collapsed": true
   },
   "outputs": [],
   "source": [
    "sess.close()"
   ]
  },
  {
   "cell_type": "markdown",
   "metadata": {},
   "source": [
    "## Variational Convolution Autoencoding"
   ]
  },
  {
   "cell_type": "code",
   "execution_count": 45,
   "metadata": {
    "collapsed": true
   },
   "outputs": [],
   "source": [
    "learning_rate = 0.001\n",
    "# Input and target placeholders\n",
    "inputs_ = tf.placeholder(tf.float32, shape=[None, 28, 28, 1])\n",
    "targets_ = tf.placeholder(tf.float32, shape=[None, 28, 28, 1])\n",
    "\n",
    "### Encoder\n",
    "\n",
    "conv1 = tf.layers.conv2d(inputs_, 16, (3,3), padding='SAME', activation=tf.nn.relu)\n",
    "# Now 28x28x16\n",
    "\n",
    "maxpool1 = tf.layers.max_pooling2d(conv1, (2,2), (2,2), padding='SAME')\n",
    "# Now 14x14x16\n",
    "\n",
    "conv2 =  tf.layers.conv2d(maxpool1, 8, (3,3), padding='SAME', activation=tf.nn.relu)\n",
    "# Now 14x14x8\n",
    "\n",
    "maxpool2 = tf.layers.max_pooling2d(conv2, (2,2), (2,2), padding='SAME')\n",
    "# Now 7x7x8\n",
    "\n",
    "conv3_mu = tf.layers.conv2d(maxpool2, 8, (3,3), padding='SAME', activation=None)\n",
    "maxpool3_mu = tf.layers.max_pooling2d(conv3_mu, (2,2), (2,2), padding='SAME')\n",
    "\n",
    "conv3_gamma = tf.layers.conv2d(maxpool2, 8, (3,3), padding='SAME', activation=None)\n",
    "maxpool3_gamma = tf.layers.max_pooling2d(conv3_gamma, (2,2), (2,2), padding='SAME')\n",
    "# Now 7x7x8\n",
    "\n",
    "maxpool3_sigma = tf.exp(0.5 * maxpool3_gamma)\n",
    "\n",
    "noise = tf.random_normal(tf.shape(maxpool3_sigma), dtype=tf.float32)\n",
    "\n",
    "encoded = maxpool3_mu + maxpool3_sigma*noise\n",
    "# Now 4x4x8\n",
    "\n",
    "### Decoder\n",
    "upsample1 =  tf.image.resize_nearest_neighbor(encoded, (7,7))\n",
    "\n",
    "# Now 7x7x8\n",
    "conv4 =  tf.layers.conv2d(upsample1, 8, (3,3), padding='SAME', activation=tf.nn.relu)\n",
    "# Now 7x7x8\n",
    "\n",
    "upsample2 = tf.image.resize_nearest_neighbor(conv4, (14,14))\n",
    "# Now 14x14x8\n",
    "\n",
    "conv5 = tf.layers.conv2d(upsample2, 8, (3,3), padding='SAME', activation=tf.nn.relu)\n",
    "# Now 14x14x8\n",
    "\n",
    "upsample3 = tf.image.resize_nearest_neighbor(conv4, (28,28))\n",
    "# Now 28x28x8\n",
    "\n",
    "conv6 = tf.layers.conv2d(upsample3, 16, (3,3), padding='SAME', activation=tf.nn.relu)\n",
    "# Now 28x28x16\n",
    "\n",
    "logits = tf.layers.conv2d(conv6, 1, (3,3), padding='SAME', activation=None)\n",
    "#Now 28x28x1\n",
    "\n",
    "# Pass logits through sigmoid to get reconstructed image\n",
    "decoded = tf.nn.sigmoid(logits)\n",
    "\n",
    "# Pass logits through sigmoid and calculate the cross-entropy loss\n",
    "loss =  tf.nn.sigmoid_cross_entropy_with_logits(labels=targets_, logits=logits)\n",
    "\n",
    "# Get cost and define the optimizer\n",
    "reconstruction_loss = tf.reduce_sum(\n",
    "    tf.nn.sigmoid_cross_entropy_with_logits(\n",
    "    logits=logits,\n",
    "    labels=targets_\n",
    "    )\n",
    ")\n",
    "\n",
    "latent_loss = tf.reduce_sum(\n",
    "    tf.exp(maxpool3_gamma) + tf.square(maxpool3_mu) - 1 - maxpool3_gamma\n",
    ")\n",
    "\n",
    "loss = reconstruction_loss + latent_loss\n",
    "\n",
    "cost = loss\n",
    "opt = tf.train.AdamOptimizer(learning_rate).minimize(cost)"
   ]
  },
  {
   "cell_type": "code",
   "execution_count": 46,
   "metadata": {},
   "outputs": [
    {
     "name": "stdout",
     "output_type": "stream",
     "text": [
      "Epoch: 1/20... Training loss: 47512.4258\n",
      "Epoch: 2/20... Training loss: 45270.6641\n",
      "Epoch: 3/20... Training loss: 41777.9453\n",
      "Epoch: 4/20... Training loss: 40199.7109\n",
      "Epoch: 5/20... Training loss: 39296.7109\n",
      "Epoch: 6/20... Training loss: 37688.5508\n",
      "Epoch: 7/20... Training loss: 38555.5156\n",
      "Epoch: 8/20... Training loss: 38631.3086\n",
      "Epoch: 9/20... Training loss: 38132.2734\n",
      "Epoch: 10/20... Training loss: 37285.7812\n",
      "Epoch: 11/20... Training loss: 37001.2617\n",
      "Epoch: 12/20... Training loss: 36684.0156\n",
      "Epoch: 13/20... Training loss: 37043.9609\n",
      "Epoch: 14/20... Training loss: 36991.4688\n",
      "Epoch: 15/20... Training loss: 36139.2891\n",
      "Epoch: 16/20... Training loss: 37214.8125\n",
      "Epoch: 17/20... Training loss: 35967.5781\n",
      "Epoch: 18/20... Training loss: 36284.4648\n",
      "Epoch: 19/20... Training loss: 36591.2461\n",
      "Epoch: 20/20... Training loss: 36018.7266\n"
     ]
    }
   ],
   "source": [
    "sess = tf.Session()\n",
    "epochs = 20\n",
    "batch_size = 200\n",
    "sess.run(tf.global_variables_initializer())\n",
    "for e in range(epochs):\n",
    "    for ii in range(mnist.train.num_examples//batch_size):\n",
    "        batch = mnist.train.next_batch(batch_size)\n",
    "        imgs = batch[0].reshape((-1, 28, 28, 1))\n",
    "        batch_cost, _ = sess.run([cost, opt], feed_dict={inputs_: imgs,\n",
    "                                                         targets_: imgs})\n",
    "\n",
    "    print(\"Epoch: {}/{}...\".format(e+1, epochs),\n",
    "              \"Training loss: {:.4f}\".format(batch_cost))"
   ]
  },
  {
   "cell_type": "code",
   "execution_count": 47,
   "metadata": {},
   "outputs": [
    {
     "data": {
      "image/png": "[encoded data removed]",
      "text/plain": [
       "<matplotlib.figure.Figure at 0x131fd89e8>"
      ]
     },
     "metadata": {},
     "output_type": "display_data"
    }
   ],
   "source": [
    "fig, axes = plt.subplots(nrows=2, ncols=10, sharex=True, sharey=True, figsize=(20,4))\n",
    "in_imgs = mnist.test.images[:10]\n",
    "reconstructed = sess.run(decoded, feed_dict={inputs_: in_imgs.reshape((10, 28, 28, 1))})\n",
    "\n",
    "for images, row in zip([in_imgs, reconstructed], axes):\n",
    "    for img, ax in zip(images, row):\n",
    "        ax.imshow(img.reshape((28, 28)), cmap='Greys_r')\n",
    "        ax.get_xaxis().set_visible(False)\n",
    "        ax.get_yaxis().set_visible(False)\n",
    "\n",
    "\n",
    "fig.tight_layout(pad=0.1)"
   ]
  },
  {
   "cell_type": "code",
   "execution_count": null,
   "metadata": {
    "collapsed": true
   },
   "outputs": [],
   "source": []
  }
 ],
 "metadata": {
  "kernelspec": {
   "display_name": "Python 3.6 (dlnd)",
   "language": "python",
   "name": "dlnd"
  },
  "language_info": {
   "codemirror_mode": {
    "name": "ipython",
    "version": 3
   },
   "file_extension": ".py",
   "mimetype": "text/x-python",
   "name": "python",
   "nbconvert_exporter": "python",
   "pygments_lexer": "ipython3",
   "version": "3.6.1"
  }
 },
 "nbformat": 4,
 "nbformat_minor": 2
}
